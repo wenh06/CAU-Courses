{
 "cells": [
  {
   "cell_type": "code",
   "execution_count": null,
   "id": "4a49459b-2336-4051-b9ad-e18b217001c7",
   "metadata": {},
   "outputs": [],
   "source": [
    "library(dplyr)"
   ]
  },
  {
   "cell_type": "code",
   "execution_count": null,
   "id": "46319e41-ae39-4477-8049-271b9a374152",
   "metadata": {},
   "outputs": [],
   "source": [
    "generate_table = function(n) {\n",
    "  # 参数检查\n",
    "  stopifnot(n > 0 && is.numeric(n) && length(n) == 1)\n",
    "  \n",
    "  # 生成性别列（等概率）\n",
    "  gender = sample(c(\"男\", \"女\"), size = n, replace = TRUE)\n",
    "  \n",
    "  # 生成牛奶品牌列（等概率）\n",
    "  milk_brand = sample(c(\"光明\", \"蒙牛\", \"三元\", \"伊利\", \"其他\"),\n",
    "                      size = n,\n",
    "                      replace = TRUE)\n",
    "  \n",
    "  # 创建数据框\n",
    "  df = data.frame(\n",
    "    性别 = gender,\n",
    "    牛奶品牌 = milk_brand,\n",
    "    stringsAsFactors = FALSE\n",
    "  )\n",
    "  \n",
    "  return(df)\n",
    "}\n",
    "\n",
    "sample_data = generate_table(100)"
   ]
  },
  {
   "cell_type": "code",
   "execution_count": null,
   "id": "a4f1191f-bde1-4522-8c65-76729295ba6d",
   "metadata": {},
   "outputs": [],
   "source": []
  },
  {
   "cell_type": "code",
   "execution_count": null,
   "id": "1a546749-902b-49e7-be23-5299f2a139f9",
   "metadata": {},
   "outputs": [],
   "source": [
    "sample_data"
   ]
  },
  {
   "cell_type": "code",
   "execution_count": null,
   "id": "f0b0b5d4-f136-4e6f-a5d4-182cae45d01e",
   "metadata": {},
   "outputs": [],
   "source": [
    "gender_freq_base = as.data.frame(table(sample_data$性别))\n",
    "names(gender_freq_base) = c(\"性别\", \"频数\")\n",
    "gender_freq_base$比例 = prop.table(gender_freq_base$频数)"
   ]
  },
  {
   "cell_type": "code",
   "execution_count": null,
   "id": "846ca69e-76f4-46b8-b9f1-8d34cc455d65",
   "metadata": {},
   "outputs": [],
   "source": [
    "gender_freq_base"
   ]
  },
  {
   "cell_type": "code",
   "execution_count": null,
   "id": "be2311f3-2ebe-44e4-9b10-78e0216f4340",
   "metadata": {},
   "outputs": [],
   "source": [
    "library(dplyr)\n",
    "\n",
    "gender_freq_tidy = sample_data %>% \n",
    "  count(性别, name = \"频数\") %>%\n",
    "  mutate(比例 = 频数 / sum(频数))"
   ]
  },
  {
   "cell_type": "code",
   "execution_count": null,
   "id": "44268e09-10d7-4180-b1e9-5cc5c626106f",
   "metadata": {},
   "outputs": [],
   "source": [
    "gender_freq_tidy"
   ]
  },
  {
   "cell_type": "code",
   "execution_count": null,
   "id": "539b0ea9-0291-4bf4-bb4b-a77a14225b42",
   "metadata": {},
   "outputs": [],
   "source": [
    "brand_freq_tidy = sample_data %>% \n",
    "  count(牛奶品牌, name = \"频数\") %>%\n",
    "  mutate(比例 = 频数 / sum(频数))"
   ]
  },
  {
   "cell_type": "code",
   "execution_count": null,
   "id": "58457a95-dcf3-4403-aaa5-ee192cc2be8b",
   "metadata": {},
   "outputs": [],
   "source": [
    "brand_freq_tidy"
   ]
  },
  {
   "cell_type": "code",
   "execution_count": null,
   "id": "e26c4897-51dc-4c86-a945-8250a55f673c",
   "metadata": {},
   "outputs": [],
   "source": [
    "library(dplyr)\n",
    "library(tidyr)\n",
    "\n",
    "cross_tidy = sample_data %>%\n",
    "  group_by(性别, 牛奶品牌) %>%\n",
    "  summarise(频数 = n(), .groups = 'drop') %>%\n",
    "  group_by(性别) %>%\n",
    "  mutate(比例 = scales::percent(频数 / sum(频数), accuracy = 0.1)) %>%\n",
    "  pivot_wider(\n",
    "    names_from = 牛奶品牌,\n",
    "    values_from = c(频数, 比例),\n",
    "    values_fill = list(频数 = 0, 比例 = \"0.0%\")\n",
    "  )\n",
    "\n",
    "cross_tidy"
   ]
  },
  {
   "cell_type": "code",
   "execution_count": null,
   "id": "d62dc7c7-3488-4bc5-a061-381257a174a8",
   "metadata": {},
   "outputs": [],
   "source": [
    "library(Hmisc)\n",
    "\n",
    "describe(sample_data)"
   ]
  },
  {
   "cell_type": "code",
   "execution_count": null,
   "id": "c0eb10d1-92d5-487b-9e81-3ea304d1b872",
   "metadata": {},
   "outputs": [],
   "source": [
    "library(ggplot2)"
   ]
  },
  {
   "cell_type": "code",
   "execution_count": null,
   "id": "a53b170e-4b37-45a5-83ee-a926a3258d27",
   "metadata": {},
   "outputs": [],
   "source": [
    "gender_plot = ggplot(sample_data, aes(x = 性别)) +\n",
    "  geom_bar(fill = c(\"男\" = \"#e377c2\", \"女\" = \"#1f77b4\"), width = 0.6) +\n",
    "  geom_text(\n",
    "    aes(label = after_stat(count)), \n",
    "    stat = \"count\", \n",
    "    vjust = -0.5, \n",
    "    size = 6\n",
    "  ) +\n",
    "  labs(title = \"性别分布\", y = \"人数\") +\n",
    "  theme_minimal(base_size = 18) +\n",
    "  theme(plot.title = element_text(hjust = 0.5))"
   ]
  },
  {
   "cell_type": "code",
   "execution_count": null,
   "id": "66a13392-828b-4462-b217-c995a74d39f8",
   "metadata": {},
   "outputs": [],
   "source": [
    "# 品牌分布图\n",
    "brand_plot = ggplot(sample_data, aes(x = 牛奶品牌)) +\n",
    "  geom_bar(fill = RColorBrewer::brewer.pal(5, \"Set2\"), width = 0.7) +\n",
    "  geom_text(\n",
    "    aes(label = ..count..), \n",
    "    stat = \"count\", \n",
    "    vjust = -0.5, \n",
    "    size = 6\n",
    "  ) +\n",
    "  labs(title = \"品牌分布\", y = \"人数\") +\n",
    "  theme_minimal(base_size = 18) +\n",
    "  theme(axis.text.x = element_text(angle = 15, hjust = 1))\n",
    " \n",
    "# 同时显示两个图\n",
    "gridExtra::grid.arrange(gender_plot, brand_plot, ncol = 2)"
   ]
  },
  {
   "cell_type": "code",
   "execution_count": null,
   "id": "239adbd3-1179-43b5-8e3a-a6f85ed9187f",
   "metadata": {},
   "outputs": [],
   "source": [
    "# 生成组合数据\n",
    "combo_data = bind_rows(\n",
    "  sample_data %>% mutate(type = \"性别\") %>% rename(category = 性别),\n",
    "  sample_data %>% mutate(type = \"品牌\") %>% rename(category = 牛奶品牌)\n",
    ")\n",
    "\n",
    "# 绘制分面图\n",
    "combo_plot = ggplot(combo_data, aes(x = category)) +\n",
    "  geom_bar(aes(fill = ifelse(type == \"性别\", category, \"品牌\")), \n",
    "           show.legend = FALSE) +\n",
    "  geom_text(\n",
    "    aes(label = ..count..), \n",
    "    stat = \"count\", \n",
    "    vjust = -0.5, \n",
    "    size = 4\n",
    "  ) +\n",
    "  scale_fill_manual(values = c(\n",
    "    \"男\" = \"#1f77b4\", \"女\" = \"#e377c2\",\n",
    "    \"品牌\" = RColorBrewer::brewer.pal(5, \"Set2\")[1]\n",
    "  )) +\n",
    "  facet_wrap(~type, scales = \"free_x\") +\n",
    "  labs(x = \"\", y = \"计数\", title = \"性别与品牌分布对比\") +\n",
    "  theme_bw(base_size = 14) +\n",
    "  theme(\n",
    "    strip.background = element_rect(fill = \"white\"),\n",
    "    axis.text.x = element_text(angle = 15, hjust = 1)\n",
    "  )\n",
    " \n",
    "print(combo_plot)"
   ]
  },
  {
   "cell_type": "code",
   "execution_count": null,
   "id": "f4825c66-77e0-40dd-b3df-a9e0a7b3f654",
   "metadata": {},
   "outputs": [],
   "source": [
    "# 绘制堆叠图\n",
    "\n",
    "stack_data_brand = sample_data %>%\n",
    "  group_by(牛奶品牌, 性别) %>%  # 交换分组顺序\n",
    "  summarise(频数 = n(), .groups = 'drop') %>%\n",
    "  group_by(牛奶品牌) %>%        # 按品牌分组计算百分比\n",
    "  mutate(百分比 = 频数 / sum(频数))\n",
    "\n",
    "stack_plot_brand = ggplot(stack_data_brand, \n",
    "                         aes(x = 牛奶品牌, y = 频数, fill = 性别)) +\n",
    "  geom_col(position = position_stack(reverse = TRUE), \n",
    "           width = 0.8, \n",
    "           color = \"white\") +\n",
    "  geom_text(\n",
    "    aes(label = sprintf(\"%d\\n(%s)\", 频数, scales::percent(百分比, 0.1))),\n",
    "    position = position_stack(vjust = 0.5, reverse = TRUE),\n",
    "    color = \"white\", \n",
    "    size = 6,\n",
    "    lineheight = 0.8\n",
    "  ) +\n",
    "  scale_fill_manual(values = c(\"男\" = \"#1f77b4\", \"女\" = \"#e377c2\")) +\n",
    "  labs(\n",
    "    title = \"性别-品牌分布堆积条形图\",\n",
    "    x = \"牛奶品牌\",\n",
    "    y = \"人数\",\n",
    "    fill = \"性别\"\n",
    "  ) +\n",
    "  theme_minimal(base_size = 18) +\n",
    "  theme(\n",
    "    legend.position = \"top\",\n",
    "    panel.grid.major.x = element_blank(),\n",
    "    plot.title = element_text(hjust = 0.5, face = \"bold\"),\n",
    "    axis.text.x = element_text(angle = 15, hjust = 0.8)\n",
    "  )\n",
    "\n",
    "print(stack_plot_brand)"
   ]
  },
  {
   "cell_type": "code",
   "execution_count": null,
   "id": "e31c1dde-8f39-4afb-8311-170a14a36c8f",
   "metadata": {},
   "outputs": [],
   "source": [
    "library(scales)\n",
    "\n",
    "# 簇状条形图\n",
    "cluster_data = sample_data %>%\n",
    "  group_by(性别, 牛奶品牌) %>%\n",
    "  summarise(频数 = n(), .groups = 'drop') %>%\n",
    "  group_by(性别) %>%\n",
    "  mutate(百分比 = 频数 / sum(频数))\n",
    "\n",
    "cluster_plot1 = ggplot(cluster_data, \n",
    "                      aes(x = 牛奶品牌, y = 频数, fill = 性别)) +\n",
    "  geom_col(position = position_dodge(width = 0.8), \n",
    "           width = 0.7, \n",
    "           color = \"white\") +\n",
    "  geom_text(aes(label = 频数),\n",
    "            position = position_dodge(0.8),\n",
    "            vjust = -0.5,\n",
    "            size = 5) +\n",
    "  scale_fill_manual(values = c(\"男\" = \"#1f77b4\", \"女\" = \"#e377c2\")) +\n",
    "  labs(title = \"性别-品牌分布簇状条形图\", \n",
    "       x = \"牛奶品牌\", \n",
    "       y = \"人数\") +\n",
    "  theme_minimal(base_size = 18) +\n",
    "  theme(\n",
    "    legend.position = \"top\",\n",
    "    panel.grid.major.x = element_blank(),\n",
    "    plot.title = element_text(hjust = 0.5, face = \"bold\"),\n",
    "    axis.text.x = element_text(angle = 15, hjust = 0.8)\n",
    "  )\n",
    "\n",
    "print(cluster_plot1)"
   ]
  },
  {
   "cell_type": "code",
   "execution_count": null,
   "id": "7dfae227-b39b-4906-b55e-8486b7658597",
   "metadata": {},
   "outputs": [],
   "source": [
    "# 同时显示两个图\n",
    "gridExtra::grid.arrange(stack_plot_brand, cluster_plot1, ncol = 2)"
   ]
  },
  {
   "cell_type": "code",
   "execution_count": null,
   "id": "d6183b03-cbd9-4205-88e8-34f1e78cac92",
   "metadata": {},
   "outputs": [],
   "source": []
  },
  {
   "cell_type": "code",
   "execution_count": null,
   "id": "64614d78-cf5e-45c3-8fd6-0cb259090f3f",
   "metadata": {},
   "outputs": [],
   "source": [
    "cluster_plot2 = ggplot(cluster_data, \n",
    "                      aes(x = 性别, y = 百分比, fill = 牛奶品牌)) +\n",
    "  geom_col(position = \"dodge\",\n",
    "           width = 0.7,\n",
    "           color = \"white\") +\n",
    "  geom_text(aes(label = percent(百分比, accuracy = 0.1)),\n",
    "            position = position_dodge(0.7),\n",
    "            vjust = -0.5,\n",
    "            size = 4) +\n",
    "  scale_fill_brewer(palette = \"Set2\") +\n",
    "  scale_y_continuous(labels = percent_format()) +\n",
    "  labs(title = \"品牌选择百分比分布（按性别分组）\", \n",
    "       x = \"性别\", \n",
    "       y = \"占比\") +\n",
    "  theme_bw(base_size = 14) +\n",
    "  theme(\n",
    "    legend.position = \"right\",\n",
    "    plot.title = element_text(hjust = 0.5)\n",
    "  )\n",
    "\n",
    "print(cluster_plot2)"
   ]
  },
  {
   "cell_type": "code",
   "execution_count": null,
   "id": "450e5826-5fd4-4cc1-bd72-cb221a5e6814",
   "metadata": {},
   "outputs": [],
   "source": [
    "# 对比图\n",
    "bidirectional_data = cluster_data %>%\n",
    "  mutate(方向值 = ifelse(性别 == \"男\", 频数, -频数))\n",
    "\n",
    "cluster_plot3 = ggplot(bidirectional_data, \n",
    "                      aes(x = 牛奶品牌, y = 方向值, fill = 性别)) +\n",
    "  geom_col(position = \"dodge\", width = 0.6) +\n",
    "  geom_text(aes(label = abs(方向值)),\n",
    "            position = position_dodge(0.6),\n",
    "            size = 4,\n",
    "            color = \"black\") +\n",
    "  scale_fill_manual(values = c(\"男\" = \"#4daf4a\", \"女\" = \"#984ea3\")) +\n",
    "  scale_y_continuous(labels = abs) +\n",
    "  coord_flip() +\n",
    "  labs(title = \"性别-品牌分布对比图\", \n",
    "       x = \"牛奶品牌\", \n",
    "       y = \"购买人数\") +\n",
    "  theme_classic(base_size = 14) +\n",
    "  theme(\n",
    "    axis.line.y = element_blank(),\n",
    "    plot.title = element_text(hjust = 0.5)\n",
    "  )\n",
    "\n",
    "print(cluster_plot3)"
   ]
  },
  {
   "cell_type": "code",
   "execution_count": null,
   "id": "87de1b1f-5cda-4dc5-8311-e2acabbac02d",
   "metadata": {},
   "outputs": [],
   "source": [
    "# 饼图\n",
    "brand_data = sample_data %>%\n",
    "  count(牛奶品牌, name = \"频数\") %>%\n",
    "  mutate(百分比 = 频数 / sum(频数)) %>%\n",
    "  arrange(desc(频数))  # 按频数降序排列\n",
    "\n",
    "ggplot(brand_data, aes(x = \"\", y = 百分比, fill = 牛奶品牌)) +\n",
    "  geom_col(width = 1, color = \"white\") +\n",
    "  coord_polar(theta = \"y\") +\n",
    "  geom_text(aes(label = paste0(牛奶品牌, \"\\n\", scales::percent(百分比, accuracy = 0.1))),\n",
    "            position = position_stack(vjust = 0.5),\n",
    "            color = \"white\",\n",
    "            size = 8) +\n",
    "  scale_fill_brewer(palette = \"Set2\") +\n",
    "  labs(title = \"牛奶品牌消费比例\") +\n",
    "  theme_void(base_size = 22) +\n",
    "  theme(\n",
    "    plot.title = element_text(hjust = 0.5, face = \"bold\", size = 24),\n",
    "    legend.position = \"right\"\n",
    "  )"
   ]
  },
  {
   "cell_type": "code",
   "execution_count": null,
   "id": "261c0a09-f44a-4bb4-a58f-3aec4223e9fe",
   "metadata": {},
   "outputs": [],
   "source": []
  }
 ],
 "metadata": {
  "kernelspec": {
   "display_name": "R",
   "language": "R",
   "name": "ir"
  },
  "language_info": {
   "codemirror_mode": "r",
   "file_extension": ".r",
   "mimetype": "text/x-r-source",
   "name": "R",
   "pygments_lexer": "r",
   "version": "4.3.1"
  }
 },
 "nbformat": 4,
 "nbformat_minor": 5
}
